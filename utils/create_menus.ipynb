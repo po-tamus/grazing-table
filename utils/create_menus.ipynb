{
 "cells": [
  {
   "cell_type": "code",
   "execution_count": 10,
   "metadata": {},
   "outputs": [],
   "source": [
    "import pandas as pd\n",
    "import re"
   ]
  },
  {
   "cell_type": "code",
   "execution_count": 11,
   "metadata": {},
   "outputs": [
    {
     "data": {
      "text/plain": [
       "['',\n",
       " 'Menu: Charcuterie Boards & Snack Platters - serves 12 to 15 people',\n",
       " '',\n",
       " 'Item: Mediterranean Mezze Platter (Large) - $100',\n",
       " 'Desc: Dolmas, Feta cheese, Olives, Crackers, Vegetables (seasonal), Two dips (Hummus dip and Eggplant dip)',\n",
       " '',\n",
       " 'Item: Just Cheese & Crackers Platter - $100',\n",
       " 'Desc: Three Varieties of local cheese, Nuts, crackers, Fruits and Vegetables (seasonal)',\n",
       " '',\n",
       " 'Item: Meat & Cheese Platter - $135',\n",
       " 'Desc: Variety of cheeses, crackers, variety of salami, nuts, fresh and dried fruits',\n",
       " '',\n",
       " 'Item: Ultimate Charcuterie Board (All-in-one) - serves up to 25 people - $200',\n",
       " 'Desc: Variety of local and imported cheeses, olives, peppers, fruits, nuts, vegetables, seasoned meats, dips, and chips',\n",
       " '',\n",
       " 'Menu: Sandwiches, Burgers, & Pinwheels - serves 12 to 15 people',\n",
       " 'Item: Mini Croissants Sandwich Platter (24 Pieces) - $80',\n",
       " 'Desc: Two varieties: Chicken Salad or Vegetarian (Kale Salad with Pecans)',\n",
       " '',\n",
       " 'Item: Roasted Vegetable Sandwich Platter (24 Pieces) - $70',\n",
       " 'Desc: Assorted Roasted Vegetables, Fresh Mozzarella, Balsamic Glaze, Served on Ciabatta bread',\n",
       " '',\n",
       " 'Item: Tea Sandwich Platter (24 Pieces) - $50',\n",
       " 'Desc: Cucumbers, Onions, Tomato, Herb Cream base',\n",
       " '',\n",
       " 'Item: Pinwheel Platter - $70',\n",
       " 'Desc: Three varieties: Turkey & Pepper jack | Chicken with Buffalo sauce and salad greens | Vegetables with hummus',\n",
       " '',\n",
       " 'Item: Caprese Sandwich Platter - $50',\n",
       " 'Desc: Fresh Mozzarella, Tomato, Signature Herb Olive Oil, Served on rustic bread',\n",
       " '',\n",
       " 'Item: Falafel Platter - serves up to 15 to 20 people - $100',\n",
       " 'Desc: Mini Falafel Sandwiches, lettuce, tomato, cucumber, hummus, tahini drizzle',\n",
       " '',\n",
       " 'Menu: Salad - serves 12 to 15 people',\n",
       " '',\n",
       " 'Item: Classic Caesar Salad - $40',\n",
       " 'Desc: Fresh Romaine lettuce, Onions, Parmesan Cheese, Croutons, Caesar dressing',\n",
       " '',\n",
       " 'Item: Garden Salad - $40',\n",
       " 'Desc: Fresh Mixed greens, carrots, cucumbers, tomatoes, seasonal vegetables, Honey Mustard',\n",
       " '',\n",
       " 'Item: Greek Salad - $50',\n",
       " 'Desc: Mixed Field greens, tomatoes, cucumbers, peppers, olives, herbed feta, Greek dressing',\n",
       " '',\n",
       " 'Item: Chef’s Signature Salad - $60',\n",
       " 'Desc: Kale, Shredded Brussel sprouts, grapes, pecans, broccoli, Creamy Mustard dressing',\n",
       " '',\n",
       " 'Menu: Fruit and Vegetable Platters - serves 12 to 15 people',\n",
       " 'Item: Classic Fruit Platter - $65',\n",
       " 'Desc: Seasonal fresh fruits, sliced and arranged decoratively',\n",
       " '',\n",
       " 'Item: Healthy Vegetable Platter - $40',\n",
       " 'Desc: Carrots, broccoli, peppers, cucumbers, tomatoes, celery, Ranch dip',\n",
       " '',\n",
       " 'Menu: Breakfast Package - $250 - serves 12 to 15 people',\n",
       " 'Item: Bagels (1 dozen) with butter and choice of flavored cream cheese, Mini muffins, Fresh Fruit platter, Yogurt Parfait with granola, Mini croissants',\n",
       " '']"
      ]
     },
     "execution_count": 11,
     "metadata": {},
     "output_type": "execute_result"
    }
   ],
   "source": [
    "data = \"\"\"\n",
    "Menu: Charcuterie Boards & Snack Platters - serves 12 to 15 people\n",
    "\n",
    "Item: Mediterranean Mezze Platter (Large) - $100\n",
    "Desc: Dolmas, Feta cheese, Olives, Crackers, Vegetables (seasonal), Two dips (Hummus dip and Eggplant dip)\n",
    "\n",
    "Item: Just Cheese & Crackers Platter - $100\n",
    "Desc: Three Varieties of local cheese, Nuts, crackers, Fruits and Vegetables (seasonal)\n",
    "\n",
    "Item: Meat & Cheese Platter - $135\n",
    "Desc: Variety of cheeses, crackers, variety of salami, nuts, fresh and dried fruits\n",
    "\n",
    "Item: Ultimate Charcuterie Board (All-in-one) - serves up to 25 people - $200\n",
    "Desc: Variety of local and imported cheeses, olives, peppers, fruits, nuts, vegetables, seasoned meats, dips, and chips\n",
    "\n",
    "Menu: Sandwiches, Burgers, & Pinwheels - serves 12 to 15 people\n",
    "Item: Mini Croissants Sandwich Platter (24 Pieces) - $80\n",
    "Desc: Two varieties: Chicken Salad or Vegetarian (Kale Salad with Pecans)\n",
    "\n",
    "Item: Roasted Vegetable Sandwich Platter (24 Pieces) - $70\n",
    "Desc: Assorted Roasted Vegetables, Fresh Mozzarella, Balsamic Glaze, Served on Ciabatta bread\n",
    "\n",
    "Item: Tea Sandwich Platter (24 Pieces) - $50\n",
    "Desc: Cucumbers, Onions, Tomato, Herb Cream base\n",
    "\n",
    "Item: Pinwheel Platter - $70\n",
    "Desc: Three varieties: Turkey & Pepper jack | Chicken with Buffalo sauce and salad greens | Vegetables with hummus\n",
    "\n",
    "Item: Caprese Sandwich Platter - $50\n",
    "Desc: Fresh Mozzarella, Tomato, Signature Herb Olive Oil, Served on rustic bread\n",
    "\n",
    "Item: Falafel Platter - serves up to 15 to 20 people - $100\n",
    "Desc: Mini Falafel Sandwiches, lettuce, tomato, cucumber, hummus, tahini drizzle\n",
    "\n",
    "Menu: Salad - serves 12 to 15 people\n",
    "\n",
    "Item: Classic Caesar Salad - $40\n",
    "Desc: Fresh Romaine lettuce, Onions, Parmesan Cheese, Croutons, Caesar dressing\n",
    "\n",
    "Item: Garden Salad - $40\n",
    "Desc: Fresh Mixed greens, carrots, cucumbers, tomatoes, seasonal vegetables, Honey Mustard\n",
    "\n",
    "Item: Greek Salad - $50\n",
    "Desc: Mixed Field greens, tomatoes, cucumbers, peppers, olives, herbed feta, Greek dressing\n",
    "\n",
    "Item: Chef’s Signature Salad - $60\n",
    "Desc: Kale, Shredded Brussel sprouts, grapes, pecans, broccoli, Creamy Mustard dressing\n",
    "\n",
    "Menu: Fruit and Vegetable Platters - serves 12 to 15 people\n",
    "Item: Classic Fruit Platter - $65\n",
    "Desc: Seasonal fresh fruits, sliced and arranged decoratively\n",
    "\n",
    "Item: Healthy Vegetable Platter - $40\n",
    "Desc: Carrots, broccoli, peppers, cucumbers, tomatoes, celery, Ranch dip\n",
    "\n",
    "Menu: Breakfast Package - $250 - serves 12 to 15 people\n",
    "Item: Bagels (1 dozen) with butter and choice of flavored cream cheese, Mini muffins, Fresh Fruit platter, Yogurt Parfait with granola, Mini croissants\n",
    "\"\"\"\n",
    "\n",
    "data = data.split(\"\\n\")\n",
    "data"
   ]
  },
  {
   "cell_type": "code",
   "execution_count": 12,
   "metadata": {},
   "outputs": [
    {
     "name": "stdout",
     "output_type": "stream",
     "text": [
      "['Charcuterie Boards & Snack Platters - serves 12 to 15 people', 'Sandwiches, Burgers, & Pinwheels - serves 12 to 15 people', 'Salad - serves 12 to 15 people', 'Fruit and Vegetable Platters - serves 12 to 15 people', 'Breakfast Package - $250 - serves 12 to 15 people'] ['Mediterranean Mezze Platter (Large) - $100', 'Just Cheese & Crackers Platter - $100', 'Meat & Cheese Platter - $135', 'Ultimate Charcuterie Board (All-in-one) - serves up to 25 people - $200', 'Mini Croissants Sandwich Platter (24 Pieces) - $80', 'Roasted Vegetable Sandwich Platter (24 Pieces) - $70', 'Tea Sandwich Platter (24 Pieces) - $50', 'Pinwheel Platter - $70', 'Caprese Sandwich Platter - $50', 'Falafel Platter - serves up to 15 to 20 people - $100', 'Classic Caesar Salad - $40', 'Garden Salad - $40', 'Greek Salad - $50', 'Chef’s Signature Salad - $60', 'Classic Fruit Platter - $65', 'Healthy Vegetable Platter - $40', 'Bagels (1 dozen) with butter and choice of flavored cream cheese, Mini muffins, Fresh Fruit platter, Yogurt Parfait with granola, Mini croissants'] ['Dolmas, Feta cheese, Olives, Crackers, Vegetables (seasonal), Two dips (Hummus dip and Eggplant dip)', 'Three Varieties of local cheese, Nuts, crackers, Fruits and Vegetables (seasonal)', 'Variety of cheeses, crackers, variety of salami, nuts, fresh and dried fruits', 'Variety of local and imported cheeses, olives, peppers, fruits, nuts, vegetables, seasoned meats, dips, and chips', 'Two varieties: Chicken Salad or Vegetarian (Kale Salad with Pecans)', 'Assorted Roasted Vegetables, Fresh Mozzarella, Balsamic Glaze, Served on Ciabatta bread', 'Cucumbers, Onions, Tomato, Herb Cream base', 'Three varieties: Turkey & Pepper jack | Chicken with Buffalo sauce and salad greens | Vegetables with hummus', 'Fresh Mozzarella, Tomato, Signature Herb Olive Oil, Served on rustic bread', 'Mini Falafel Sandwiches, lettuce, tomato, cucumber, hummus, tahini drizzle', 'Fresh Romaine lettuce, Onions, Parmesan Cheese, Croutons, Caesar dressing', 'Fresh Mixed greens, carrots, cucumbers, tomatoes, seasonal vegetables, Honey Mustard', 'Mixed Field greens, tomatoes, cucumbers, peppers, olives, herbed feta, Greek dressing', 'Kale, Shredded Brussel sprouts, grapes, pecans, broccoli, Creamy Mustard dressing', 'Seasonal fresh fruits, sliced and arranged decoratively', 'Carrots, broccoli, peppers, cucumbers, tomatoes, celery, Ranch dip']\n"
     ]
    }
   ],
   "source": [
    "menus = []\n",
    "items = []\n",
    "descriptions = []\n",
    "\n",
    "for item in data: \n",
    "    if \"Menu\" in item: \n",
    "        menus.append(item.replace(\"Menu: \", \"\"))\n",
    "    elif \"Item\" in item: \n",
    "        items.append(item.replace(\"Item: \", \"\"))\n",
    "    elif \"Desc\" in item: \n",
    "        descriptions.append(item.replace(\"Desc: \", \"\"))\n",
    "\n",
    "print(f\"{menus} {items} {descriptions}\")"
   ]
  },
  {
   "cell_type": "code",
   "execution_count": 14,
   "metadata": {},
   "outputs": [
    {
     "data": {
      "text/plain": [
       "{'Charcuterie Boards & Snack Platters - serves 12 to 15 people': 0,\n",
       " 'Sandwiches, Burgers, & Pinwheels - serves 12 to 15 people': 1,\n",
       " 'Salad - serves 12 to 15 people': 2,\n",
       " 'Fruit and Vegetable Platters - serves 12 to 15 people': 3,\n",
       " 'Breakfast Package - $250 - serves 12 to 15 people': 4}"
      ]
     },
     "execution_count": 14,
     "metadata": {},
     "output_type": "execute_result"
    }
   ],
   "source": [
    "menu = {}\n",
    "for i, item in enumerate(menus): \n",
    "    menu[item] = i\n",
    "menu"
   ]
  }
 ],
 "metadata": {
  "kernelspec": {
   "display_name": "Python 3",
   "language": "python",
   "name": "python3"
  },
  "language_info": {
   "codemirror_mode": {
    "name": "ipython",
    "version": 3
   },
   "file_extension": ".py",
   "mimetype": "text/x-python",
   "name": "python",
   "nbconvert_exporter": "python",
   "pygments_lexer": "ipython3",
   "version": "3.10.11"
  }
 },
 "nbformat": 4,
 "nbformat_minor": 2
}
